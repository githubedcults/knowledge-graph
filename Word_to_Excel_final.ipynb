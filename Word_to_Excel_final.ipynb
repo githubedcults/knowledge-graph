{
 "cells": [
  {
   "cell_type": "code",
   "execution_count": 1,
   "id": "f8741bed",
   "metadata": {},
   "outputs": [
    {
     "name": "stdout",
     "output_type": "stream",
     "text": [
      "Requirement already satisfied: python-docx in c:\\users\\srusti hs\\anaconda3\\lib\\site-packages (1.0.0)\n",
      "Requirement already satisfied: lxml>=3.1.0 in c:\\users\\srusti hs\\anaconda3\\lib\\site-packages (from python-docx) (4.9.2)\n",
      "Requirement already satisfied: typing-extensions in c:\\users\\srusti hs\\appdata\\roaming\\python\\python311\\site-packages (from python-docx) (4.8.0)\n"
     ]
    }
   ],
   "source": [
    "!pip install python-docx"
   ]
  },
  {
   "cell_type": "code",
   "execution_count": 5,
   "id": "06ef248f",
   "metadata": {},
   "outputs": [],
   "source": [
    "import docx\n",
    "import pandas as pd\n",
    "\n",
    "# Load the Word document\n",
    "doc = docx.Document(\"C:\\\\Users\\\\srusti HS\\\\Downloads\\\\colabword.docx\") \n"
   ]
  },
  {
   "cell_type": "code",
   "execution_count": 14,
   "id": "7b106258",
   "metadata": {},
   "outputs": [],
   "source": [
    "# Initialize lists to store question details\n",
    "questions = []\n",
    "answers = []\n",
    "levels = []\n",
    "taxonomies = []\n"
   ]
  },
  {
   "cell_type": "code",
   "execution_count": 20,
   "id": "a8b71e73",
   "metadata": {},
   "outputs": [],
   "source": [
    "# Initialize variables to track question details\n",
    "current_question = \"\"\n",
    "current_answer = \"\"\n",
    "current_level = \"\"\n",
    "current_taxonomy = \"\"\n"
   ]
  },
  {
   "cell_type": "code",
   "execution_count": 21,
   "id": "a537c28b",
   "metadata": {},
   "outputs": [],
   "source": [
    "# Flag to indicate that questions should be captured\n",
    "capture_questions = False\n"
   ]
  },
  {
   "cell_type": "code",
   "execution_count": 29,
   "id": "29622733",
   "metadata": {},
   "outputs": [],
   "source": [
    "\n",
    "# Iterate through the paragraphs in the document\n",
    "for paragraph in doc.paragraphs:\n",
    "    text = paragraph.text.strip()\n",
    "\n",
    "    if text.startswith(\"Answer:\"):\n",
    "        # Store the answer and related details\n",
    "        current_answer = text.split(\":\")[1].strip()\n",
    "    elif text.startswith(\"Level:\"):\n",
    "        # Store the difficulty level\n",
    "        current_level = text.split(\":\")[1].strip()\n",
    "    elif text.startswith(\"Taxonomy:\"):\n",
    "        # Store the taxonomy level\n",
    "        current_taxonomy = text.split(\":\")[1].strip()\n",
    "    elif text:\n",
    "        # Accumulate the question text\n",
    "        if not text.startswith(\"Score:\"):\n",
    "            current_question += text + \"\\n\"\n",
    "\n",
    "    if not text and current_question:\n",
    "        # End of the question; add it to the list\n",
    "        questions.append(current_question.strip())\n",
    "        answers.append(current_answer)\n",
    "        levels.append(current_level)\n",
    "        taxonomies.append(current_taxonomy)\n",
    "        current_question = \"\" \n"
   ]
  },
  {
   "cell_type": "code",
   "execution_count": 30,
   "id": "dd6c5cc5",
   "metadata": {},
   "outputs": [],
   "source": [
    "# Create a DataFrame to store the questions and related details\n",
    "data = {\n",
    "    \"Question\": questions,\n",
    "    \"Answer\": answers,\n",
    "    \"Level\": levels,\n",
    "    \"Taxonomy\": taxonomies\n",
    "}\n"
   ]
  },
  {
   "cell_type": "code",
   "execution_count": 31,
   "id": "41a4a1ce",
   "metadata": {},
   "outputs": [],
   "source": [
    "\n",
    "df = pd.DataFrame(data)\n",
    "\n",
    "df.to_excel(\"C:\\\\Users\\\\srusti HS\\\\Downloads\\\\questions.xlsx\", index=False)"
   ]
  },
  {
   "cell_type": "code",
   "execution_count": null,
   "id": "19fbca2e",
   "metadata": {},
   "outputs": [],
   "source": []
  }
 ],
 "metadata": {
  "kernelspec": {
   "display_name": "Python 3 (ipykernel)",
   "language": "python",
   "name": "python3"
  },
  "language_info": {
   "codemirror_mode": {
    "name": "ipython",
    "version": 3
   },
   "file_extension": ".py",
   "mimetype": "text/x-python",
   "name": "python",
   "nbconvert_exporter": "python",
   "pygments_lexer": "ipython3",
   "version": "3.11.4"
  }
 },
 "nbformat": 4,
 "nbformat_minor": 5
}
